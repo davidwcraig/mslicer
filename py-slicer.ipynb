{
 "cells": [
  {
   "cell_type": "markdown",
   "metadata": {},
   "source": [
    "# MCMC Slice sampler in Python\n",
    "### returns Markov chain and log-likelihoods\n",
    "### D. Craig 2019 January 15 on SciServer"
   ]
  },
  {
   "cell_type": "code",
   "execution_count": 1,
   "metadata": {},
   "outputs": [],
   "source": [
    "import numpy as np\n",
    "import matplotlib.pyplot as plt\n",
    "from numpy.random import rand, normal"
   ]
  },
  {
   "cell_type": "code",
   "execution_count": 2,
   "metadata": {},
   "outputs": [],
   "source": [
    "def slicer(g, dim, x0, xargs, N=1000, w=0.5, m=10):\n",
    "    \"\"\"MCMC slice sampler: \n",
    "            g -- function or distribution\n",
    "            dim -- number of dimensions\n",
    "            x0 -- initial guess (vector of parameters)\n",
    "            xargs -- extra arguments for g (often data-related)\n",
    "            N -- number of values in Markov chain to return \n",
    "            w -- step-out width for slice sampling\n",
    "            m -- maximum for step-out scaling\n",
    "        Returns: (xs, likelies)\n",
    "            xs[N, dim] -- resulting Markov chain (includes initial guess as 0th)\n",
    "            likelies[N] -- vector of log-likelihoods of chain\n",
    "            \n",
    "        See: Neal, \"Slice Sampling,\" The Annals of Statistics 2003, vol. 31 (705-767). This is available online\n",
    "        --D. Craig converted from Julia mslicer, 2019 Jan 15.\n",
    "        \"\"\"\n",
    "    # based on Julia mslicer, version in mslicer-keeplikes.ipynb\n",
    "    xs = np.zeros((N, dim), dtype=np.float64)    # array (Markov chain) that will be returned\n",
    "    xs[0,:] = x0             #initial guess into the chain\n",
    "    x1 = np.zeros(dim)\n",
    "    L = np.zeros(dim)\n",
    "    R = np.zeros(dim)\n",
    "    likelies = np.zeros(N)     # record log likelihoods\n",
    "    likelies[0] = g(x0,xargs)  # get log-like of initial guess; avoid fencepost error\n",
    "    way = np.zeros(dim)  # which axis to go along in space\n",
    "    i = 1    # assumed start values for chain are recorded at xs[0,:]; this will be index of first generated point \n",
    "    while i < N:\n",
    "        for d in range(dim):     # go one step in each dimensional direction.\n",
    "            way = 0.0 * way #clear it\n",
    "            way[d] = 1.0 #set nonzero in direction we go for slicing on this step\n",
    "            y0 = g(x0,xargs)  #height of distribution at x0\n",
    "            y = y0 + np.log(rand()) # height for slice (using log scaled distribution)\n",
    "            #start stepping out\n",
    "            U = rand()   # between 0 and 1\n",
    "            L = x0 - (w * way * U)\n",
    "            R = L + w * way\n",
    "            V = rand()\n",
    "            J = np.floor(m*V)\n",
    "            K = (m - 1) - J\n",
    "            while J > 0 and y < g(L,xargs):\n",
    "                L = L - w * way\n",
    "                J = J - 1\n",
    "            while K > 0 and y < g(R,xargs):\n",
    "                R = R + w * way\n",
    "                K = K - 1\n",
    "            #now should be stepped out beyond distribution at slice level\n",
    "            # work back in if no value found:\n",
    "            Lbar, Rbar = L, R\n",
    "            while True: \n",
    "                U = rand()\n",
    "                x1 = Lbar + U * (Rbar - Lbar)  # vector subtraction should be correct dir\n",
    "                if y < g(x1,xargs):\n",
    "                    break # exit while loop\n",
    "                if x1[d] < x0[d]:\n",
    "                        Lbar = x1\n",
    "                else: \n",
    "                        Rbar = x1\n",
    "            xs[i,:] = x1 # found an acceptable point, record in chain (a row)\n",
    "            likelies[i] = y0 # record log-likelhood\n",
    "            x0 = x1 # set initial to new point for next round.\n",
    "            i += 1\n",
    "            if i >= N:\n",
    "                break # catch case where we reach N in the middle of set of dimensions\n",
    "    return xs, likelies "
   ]
  },
  {
   "cell_type": "markdown",
   "metadata": {},
   "source": [
    "### Make the fake data, a linear + noise model"
   ]
  },
  {
   "cell_type": "code",
   "execution_count": 48,
   "metadata": {},
   "outputs": [
    {
     "data": {
      "image/png": "[encoded data removed]",
      "text/plain": [
       "<Figure size 432x288 with 1 Axes>"
      ]
     },
     "metadata": {
      "needs_background": "light"
     },
     "output_type": "display_data"
    }
   ],
   "source": [
    "theta_true = [25.0,0.5] # [intercept slope]\n",
    "xdata = 100*rand(50);\n",
    "ydata = theta_true[0] + theta_true[1]*xdata\n",
    "n = 5*normal(size=50)  # noise rms of 10\n",
    "ydata += n\n",
    "# ydata[j] += 40*normal(size=10) + 40  #contamination by gaussian of higher variance\n",
    "plt.scatter(xdata, ydata);"
   ]
  },
  {
   "cell_type": "code",
   "execution_count": 49,
   "metadata": {},
   "outputs": [],
   "source": [
    "def log_prior(theta):  #NOTE theta is a tuple\n",
    "    \"\"\"Jeffries prior for slopes\"\"\"\n",
    "    alpha, beta, sigma = theta\n",
    "    if sigma <= 0:\n",
    "        return -np.inf   # log(0)\n",
    "    else:\n",
    "        return -0.5 * np.log(1 + beta**2) - np.log(sigma)  #Jeffreys prior for slopes"
   ]
  },
  {
   "cell_type": "code",
   "execution_count": 50,
   "metadata": {},
   "outputs": [
    {
     "data": {
      "text/plain": [
       "-1.683647914993237"
      ]
     },
     "execution_count": 50,
     "metadata": {},
     "output_type": "execute_result"
    }
   ],
   "source": [
    "log_prior((24, .4, 5))"
   ]
  },
  {
   "cell_type": "code",
   "execution_count": 77,
   "metadata": {},
   "outputs": [],
   "source": [
    "def log_like(theta, xvec):\n",
    "    alpha, beta, sigma = theta\n",
    "    x = xvec[0]\n",
    "    y = xvec[1]\n",
    "    y_model = alpha + beta * x\n",
    "    #return -0.5 * sum(np.log(2*np.pi*sigma**2) + (y - y_model)*(y - y_model) / sigma**2)\n",
    "    return -0.5 * sum(np.log(2*np.pi*sigma**2) + (y - y_model)*(y - y_model) / sigma**2)\n",
    "\n",
    "    #return y - y_model"
   ]
  },
  {
   "cell_type": "code",
   "execution_count": 78,
   "metadata": {},
   "outputs": [],
   "source": [
    "def log_posterior(theta, xvec):\n",
    "    return log_prior(theta) + log_like(theta,xvec)  #sum of logs is product in Bayes theorem numerator"
   ]
  },
  {
   "cell_type": "markdown",
   "metadata": {},
   "source": [
    "## Execute; make the Markov chain:"
   ]
  },
  {
   "cell_type": "code",
   "execution_count": 79,
   "metadata": {},
   "outputs": [
    {
     "name": "stdout",
     "output_type": "stream",
     "text": [
      "CPU times: user 3.3 s, sys: 27.1 ms, total: 3.33 s\n",
      "Wall time: 3.3 s\n"
     ]
    }
   ],
   "source": [
    "%%time\n",
    "res, likes = slicer(log_posterior, 3, [24.0, 0.5, 2.0], [xdata, ydata], N=5000);"
   ]
  },
  {
   "cell_type": "code",
   "execution_count": 80,
   "metadata": {},
   "outputs": [
    {
     "data": {
      "image/png": "[encoded data removed]",
      "text/plain": [
       "<Figure size 432x288 with 1 Axes>"
      ]
     },
     "metadata": {
      "needs_background": "light"
     },
     "output_type": "display_data"
    }
   ],
   "source": [
    "plt.hist(likes, bins=\"fd\", histtype='step')\n",
    "plt.title(\"Distribution of likelhoods\");\n",
    "plt.xlabel(\"log-likelihood\")\n",
    "plt.ylabel(\"Count\");"
   ]
  },
  {
   "cell_type": "code",
   "execution_count": 83,
   "metadata": {},
   "outputs": [],
   "source": [
    "A_chain = res[:,0]\n",
    "B_chain = res[:,1]\n",
    "N_chain = res[:,2]; # get the MCMC parameter chains out with convenient names \n",
    "                    # (marginalized samplings)"
   ]
  },
  {
   "cell_type": "code",
   "execution_count": 84,
   "metadata": {},
   "outputs": [
    {
     "data": {
      "image/png": "[encoded data removed]",
      "text/plain": [
       "<Figure size 432x288 with 1 Axes>"
      ]
     },
     "metadata": {
      "needs_background": "light"
     },
     "output_type": "display_data"
    }
   ],
   "source": [
    "plt.plot(A_chain,B_chain);"
   ]
  },
  {
   "cell_type": "code",
   "execution_count": 85,
   "metadata": {},
   "outputs": [
    {
     "data": {
      "image/png": "[encoded data removed]",
      "text/plain": [
       "<Figure size 432x288 with 1 Axes>"
      ]
     },
     "metadata": {
      "needs_background": "light"
     },
     "output_type": "display_data"
    }
   ],
   "source": [
    "plt.hist2d(A_chain, B_chain, bins=30,cmap=plt.cm.Greys);"
   ]
  },
  {
   "cell_type": "code",
   "execution_count": 86,
   "metadata": {},
   "outputs": [
    {
     "data": {
      "image/png": "[encoded data removed]",
      "text/plain": [
       "<Figure size 432x288 with 1 Axes>"
      ]
     },
     "metadata": {
      "needs_background": "light"
     },
     "output_type": "display_data"
    }
   ],
   "source": [
    "plt.hist2d(A_chain, N_chain, bins=30, cmap=plt.cm.Greys);"
   ]
  },
  {
   "cell_type": "code",
   "execution_count": 87,
   "metadata": {},
   "outputs": [
    {
     "data": {
      "image/png": "[encoded data removed]",
      "text/plain": [
       "<Figure size 432x288 with 1 Axes>"
      ]
     },
     "metadata": {
      "needs_background": "light"
     },
     "output_type": "display_data"
    }
   ],
   "source": [
    "plt.hist2d(B_chain, N_chain, bins=30, cmap=plt.cm.Greys);"
   ]
  },
  {
   "cell_type": "code",
   "execution_count": 88,
   "metadata": {},
   "outputs": [],
   "source": [
    "fit_idx = np.argmax(likes)"
   ]
  },
  {
   "cell_type": "code",
   "execution_count": 89,
   "metadata": {},
   "outputs": [],
   "source": [
    "A_fit = res[fit_idx,0]\n",
    "B_fit = res[fit_idx,1]\n",
    "N_fit = res[fit_idx,2];"
   ]
  },
  {
   "cell_type": "code",
   "execution_count": 90,
   "metadata": {},
   "outputs": [
    {
     "data": {
      "text/plain": [
       "(26.48159148615064, 0.4640067053708976, 4.805500772578093)"
      ]
     },
     "execution_count": 90,
     "metadata": {},
     "output_type": "execute_result"
    }
   ],
   "source": [
    "A_fit, B_fit, N_fit"
   ]
  },
  {
   "cell_type": "code",
   "execution_count": 91,
   "metadata": {},
   "outputs": [
    {
     "data": {
      "image/png": "[encoded data removed]",
      "text/plain": [
       "<Figure size 432x288 with 1 Axes>"
      ]
     },
     "metadata": {
      "needs_background": "light"
     },
     "output_type": "display_data"
    }
   ],
   "source": [
    "plt.scatter(xdata, ydata)\n",
    "plt.plot(xdata, B_fit*xdata + A_fit, color='r');   # maximum likelihood model"
   ]
  },
  {
   "cell_type": "markdown",
   "metadata": {},
   "source": [
    "--------------------------------------\n",
    "## Background: slice sampling\n",
    "\n",
    "Slice sampling is a Markov Chain Monte Carlo technique that tries to cut down on the amount of tuning needed to get a sample from the asymptotic distribution. Here I will try to explain it to myself.\n",
    "\n",
    "Suppose we have a distribution (or something proportional to one): $ p(x) $. We pick a point $ x_0.$ Then we find a $ y_0 = p(x_0)$\n",
    "\n",
    "<img src=\"slice-sampling-fig1.png\" width=50%/>\n",
    "\n",
    "Next, pick a point using a uniform random number generator on the interval $[0,y_0]$: this gives us $y$, \n",
    "$y = \\text{Uniform}[0, y_0]$. $y$ defines a 'height' at the point $x_0$ that is below the probablility density. This also defines a _slice_ across $p(x)$ at height $y$, I'll call it $\\cal{S}$. Now $\\cal S$ is an interval, but of course we _don't_ know where it ends at either high or low values of $x$ yet.\n",
    "\n",
    "<img src=\"slice-sampling-fig2.png\" width=50%/>\n",
    "\n",
    "Pick a width $w$, and let $L = x_0 - w$ and $R = x_0 + w.$ Next, grow the width until $L$ and $R$ lie _outside_ $\\cal S$.  This can be detected by when both $p(L)$ and $p(R)$ are both _less_ than $y$: $p(L) < y \\text{ and } p(R) < y.$\n",
    "\n",
    "There are various choices for growing $w$ to find the edges of the slice: muliplicative, additive, etc.\n",
    "\n",
    "Next, find a point in $\\cal S$ by picking a point $x_1$ (randomly) in $[L,R]$ such that $ y < p(x_1)$ :\n",
    "\n",
    "- if you fail, just try again with a new random number, until you hit it.\n",
    "- if you miss, you can (carefully) shrink the interval until you get an acceptable point.\n",
    "\n",
    "The point $x_1$ that is accepted will be a sample from the distribution.\n",
    "\n",
    "See: Neal, \"Slice Sampling,\" _The Annals of Statistics_ 2003, vol. 31 (705-767). This is available online."
   ]
  },
  {
   "cell_type": "code",
   "execution_count": 19,
   "metadata": {},
   "outputs": [],
   "source": [
    "?slicer"
   ]
  },
  {
   "cell_type": "code",
   "execution_count": null,
   "metadata": {},
   "outputs": [],
   "source": []
  }
 ],
 "metadata": {
  "kernelspec": {
   "display_name": "Python 3",
   "language": "python",
   "name": "python3"
  },
  "language_info": {
   "codemirror_mode": {
    "name": "ipython",
    "version": 3
   },
   "file_extension": ".py",
   "mimetype": "text/x-python",
   "name": "python",
   "nbconvert_exporter": "python",
   "pygments_lexer": "ipython3",
   "version": "3.6.6"
  }
 },
 "nbformat": 4,
 "nbformat_minor": 2
}
