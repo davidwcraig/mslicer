{
 "cells": [
  {
   "cell_type": "code",
   "execution_count": 9,
   "metadata": {},
   "outputs": [
    {
     "data": {
      "text/plain": [
       "Plots.GRBackend()"
      ]
     },
     "execution_count": 9,
     "metadata": {},
     "output_type": "execute_result"
    }
   ],
   "source": [
    "using Plots, LinearAlgebra, Printf\n",
    "gr(format=\"png\")"
   ]
  },
  {
   "cell_type": "markdown",
   "metadata": {},
   "source": [
    "Here I give an example of simple Bayesian inference using the following situation:\n",
    "\n",
    "_Suppose you have three six-sided dice (3d6, in Dungeons and Dragons jargon) and one 16-sided one (d16). These each have sixteen possible results: either 3 through 18 or 1 through 16. Suppose if you roll the 3d6 you simply record the sum, whereas if you roll the d16, you add two to it (d16 + 2) giving you the same possible set of results_\n",
    "\n",
    "_Someone presents you a series of such die rolls._ **Can you determine which set of dice was used?**"
   ]
  },
  {
   "cell_type": "markdown",
   "metadata": {},
   "source": [
    "This presents a nice clean example of Bayesian inference. What are the probablilities for each set of dice?\n",
    "\n",
    "For the 3d6, we have a multinomial distribution, which is a pretty good approximation to a Gaussian. It is symmetric about 10 and 11, so we can write it in a short table:\n",
    "\n",
    "|3d6 Roll | Probability | \n",
    "|---------|-------------|\n",
    "| 3 or 18 | 1/216       |\n",
    "| 4 or 17 | 3/216       |\n",
    "| 5 or 16 | 6/216       |\n",
    "| 6 or 15 | 10/216      |\n",
    "| 7 or 14 | ...         |\n",
    "| 8 or 13 | (see below) |\n",
    "| 9 or 12 |             |\n",
    "|10 or 11 |             |\n",
    "\n",
    "For the d16, the discrete probability distribution is uniform:\n",
    "\n",
    "|d16+2 Roll | Probability |\n",
    "|-----------|-------------|\n",
    "| 3 through 18 | 0.0625 each  |\n",
    "\n"
   ]
  },
  {
   "cell_type": "markdown",
   "metadata": {},
   "source": [
    "Since this is such a short set of values, we can make a dictionary instead of an array or function:"
   ]
  },
  {
   "cell_type": "code",
   "execution_count": 8,
   "metadata": {},
   "outputs": [
    {
     "data": {
      "text/plain": [
       "Dict{Int64,Float64} with 16 entries:\n",
       "  16 => 0.0277778\n",
       "  11 => 0.125\n",
       "  7  => 0.0694444\n",
       "  9  => 0.115741\n",
       "  10 => 0.125\n",
       "  17 => 0.0138889\n",
       "  8  => 0.0972222\n",
       "  6  => 0.0462963\n",
       "  4  => 0.0138889\n",
       "  3  => 0.00462963\n",
       "  5  => 0.0277778\n",
       "  13 => 0.0972222\n",
       "  14 => 0.0694444\n",
       "  15 => 0.0462963\n",
       "  12 => 0.115741\n",
       "  18 => 0.00462963"
      ]
     },
     "execution_count": 8,
     "metadata": {},
     "output_type": "execute_result"
    }
   ],
   "source": [
    "vals3 = [1, 3, 6, 10, 15, 21, 25, 27, 27, 25, 21, 15, 10, 6, 3, 1]/216\n",
    "k3 = collect(3:18)\n",
    "r3d6 = Dict(zip(k3, vals3))"
   ]
  },
  {
   "cell_type": "code",
   "execution_count": 12,
   "metadata": {},
   "outputs": [
    {
     "name": "stdout",
     "output_type": "stream",
     "text": [
      "   3 | 0.00463 | -23.34454 \n",
      "   4 | 0.01389 | -18.57332 \n",
      "   5 | 0.02778 | -15.56303 \n",
      "   6 | 0.04630 | -13.34454 \n",
      "   7 | 0.06944 | -11.58362 \n",
      "   8 | 0.09722 | -10.12234 \n",
      "   9 | 0.11574 | -9.36514 \n",
      "  10 | 0.12500 | -9.03090 \n",
      "  11 | 0.12500 | -9.03090 \n",
      "  12 | 0.11574 | -9.36514 \n",
      "  13 | 0.09722 | -10.12234 \n",
      "  14 | 0.06944 | -11.58362 \n",
      "  15 | 0.04630 | -13.34454 \n",
      "  16 | 0.02778 | -15.56303 \n",
      "  17 | 0.01389 | -18.57332 \n",
      "  18 | 0.00463 | -23.34454 \n"
     ]
    }
   ],
   "source": [
    "for x in 3:18\n",
    "    @printf(\"%4d | %7.5f | %7.5f \\n\", x, r3d6[x], 10*log10(r3d6[x]))\n",
    "end"
   ]
  },
  {
   "cell_type": "code",
   "execution_count": 18,
   "metadata": {},
   "outputs": [
    {
     "data": {
      "text/plain": [
       "Dict{Int64,Float64} with 16 entries:\n",
       "  16 => -3.52183\n",
       "  11 => 3.0103\n",
       "  7  => 0.457575\n",
       "  9  => 2.67606\n",
       "  10 => 3.0103\n",
       "  17 => -6.53213\n",
       "  8  => 1.91886\n",
       "  6  => -1.30334\n",
       "  4  => -6.53213\n",
       "  3  => -11.3033\n",
       "  5  => -3.52183\n",
       "  13 => 1.91886\n",
       "  14 => 0.457575\n",
       "  15 => -1.30334\n",
       "  12 => 2.67606\n",
       "  18 => -11.3033"
      ]
     },
     "execution_count": 18,
     "metadata": {},
     "output_type": "execute_result"
    }
   ],
   "source": [
    "# Now let's make the log-odds of 3d6 to d16+2:\n",
    "# units are deciban\n",
    "vals_lo = [10*log10(r3d6[x]) + 10*log10(16) for x in 3:18]\n",
    "log_odds = Dict(zip(k3, vals_lo))"
   ]
  },
  {
   "cell_type": "code",
   "execution_count": 21,
   "metadata": {},
   "outputs": [
    {
     "name": "stdout",
     "output_type": "stream",
     "text": [
      "   3 |-11.3 \n",
      "   4 | -6.5 \n",
      "   5 | -3.5 \n",
      "   6 | -1.3 \n",
      "   7 |  0.5 \n",
      "   8 |  1.9 \n",
      "   9 |  2.7 \n",
      "  10 |  3.0 \n",
      "  11 |  3.0 \n",
      "  12 |  2.7 \n",
      "  13 |  1.9 \n",
      "  14 |  0.5 \n",
      "  15 | -1.3 \n",
      "  16 | -3.5 \n",
      "  17 | -6.5 \n",
      "  18 |-11.3 \n"
     ]
    }
   ],
   "source": [
    "for x in 3:18\n",
    "    @printf(\"%4d |%5.1f \\n\", x, log_odds[x])\n",
    "end"
   ]
  },
  {
   "cell_type": "code",
   "execution_count": 102,
   "metadata": {},
   "outputs": [
    {
     "data": {
      "text/plain": [
       "rolld16 (generic function with 1 method)"
      ]
     },
     "execution_count": 102,
     "metadata": {},
     "output_type": "execute_result"
    }
   ],
   "source": [
    "function roll3d6()\n",
    "    return rand(1:6) + rand(1:6) + rand(1:6)\n",
    "end\n",
    "\n",
    "function rolld16()\n",
    "    return rand(3:18)\n",
    "end"
   ]
  },
  {
   "cell_type": "code",
   "execution_count": 158,
   "metadata": {},
   "outputs": [],
   "source": [
    "slen = 16\n",
    "sample = [roll3d6() for i in 1:slen];"
   ]
  },
  {
   "cell_type": "code",
   "execution_count": 159,
   "metadata": {},
   "outputs": [
    {
     "name": "stdout",
     "output_type": "stream",
     "text": [
      "  1  14   0.5   0.5 \n",
      "  2   9   2.7   3.1 \n",
      "  3   8   1.9   5.1 \n",
      "  4  13   1.9   7.0 \n",
      "  5  17  -6.5   0.4 \n",
      "  6  12   2.7   3.1 \n",
      "  7  13   1.9   5.0 \n",
      "  8   8   1.9   7.0 \n",
      "  9   6  -1.3   5.6 \n",
      " 10  15  -1.3   4.3 \n",
      " 11  16  -3.5   0.8 \n",
      " 12   7   0.5   1.3 \n",
      " 13  10   3.0   4.3 \n",
      " 14  12   2.7   7.0 \n",
      " 15  13   1.9   8.9 \n",
      " 16   7   0.5   9.3 \n"
     ]
    }
   ],
   "source": [
    "# do the inference\n",
    "prior = 0.0 # assume either equally likely\n",
    "for s in 1:slen\n",
    "    increment = log_odds[sample[s]]\n",
    "    posterior = prior + increment\n",
    "    @printf(\"% 3d %3d %5.1f %5.1f \\n\",s, sample[s], increment, posterior)\n",
    "    prior = posterior\n",
    "end\n",
    "# this could all be done with a cumulative sum, but this shows the history if one\n",
    "# assumes the data come in one at a time:"
   ]
  },
  {
   "cell_type": "code",
   "execution_count": 160,
   "metadata": {},
   "outputs": [
    {
     "name": "stdout",
     "output_type": "stream",
     "text": [
      "log odds of being a 3d6 sample:   9.34 deciban\n",
      "odds FOR being a 3d6 sample:  43 to   5\n",
      "probability of being a 3d6 sample: 0.895831"
     ]
    }
   ],
   "source": [
    "@printf(\"log odds of being a 3d6 sample: %6.2f deciban\\n\", prior)\n",
    "        # final prior going out of loop is same as last posterior\n",
    "        # careful of loop scope rules.\n",
    "odda = 10^(abs(prior)/10) #odds > 1\n",
    "odds = 10^((prior)/10)\n",
    "\n",
    "oddr = rationalize(odda, tol=0.01)\n",
    "if prior < 0.0\n",
    "    @printf(\"odds AGAINST \")\n",
    "else\n",
    "    @printf(\"odds FOR \")\n",
    "end\n",
    "@printf(\"being a 3d6 sample: %3d to %3d\\n\", numerator(oddr), denominator(oddr))\n",
    "p = odds/(odds + 1)\n",
    "@printf(\"probability of being a 3d6 sample: %8.6f\", p)\n"
   ]
  },
  {
   "cell_type": "code",
   "execution_count": 162,
   "metadata": {},
   "outputs": [
    {
     "data": {
      "text/plain": [
       "0.8958333333333334"
      ]
     },
     "execution_count": 162,
     "metadata": {},
     "output_type": "execute_result"
    }
   ],
   "source": [
    "43/48"
   ]
  },
  {
   "cell_type": "code",
   "execution_count": 72,
   "metadata": {},
   "outputs": [
    {
     "data": {
      "text/plain": [
       "0.9999995566210425"
      ]
     },
     "execution_count": 72,
     "metadata": {},
     "output_type": "execute_result"
    }
   ],
   "source": []
  },
  {
   "cell_type": "code",
   "execution_count": null,
   "metadata": {},
   "outputs": [],
   "source": []
  }
 ],
 "metadata": {
  "kernelspec": {
   "display_name": "Julia 1.0.0",
   "language": "julia",
   "name": "julia-1.0"
  },
  "language_info": {
   "file_extension": ".jl",
   "mimetype": "application/julia",
   "name": "julia",
   "version": "1.0.0"
  }
 },
 "nbformat": 4,
 "nbformat_minor": 2
}
