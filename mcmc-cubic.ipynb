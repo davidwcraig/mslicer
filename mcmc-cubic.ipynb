{
 "cells": [
  {
   "cell_type": "code",
   "execution_count": 37,
   "metadata": {},
   "outputs": [],
   "source": [
    "import numpy as np\n",
    "import matplotlib.pyplot as plt\n",
    "from numpy.random import rand, normal, uniform\n",
    "import corner"
   ]
  },
  {
   "cell_type": "code",
   "execution_count": 38,
   "metadata": {},
   "outputs": [],
   "source": [
    "def slicer(g, dim, x0, xargs, N=1000, w=0.5, m=10):\n",
    "    \"\"\"MCMC slice sampler: \n",
    "            g -- function or distribution\n",
    "            dim -- number of dimensions\n",
    "            x0 -- initial guess (vector of parameters)\n",
    "            xargs -- extra arguments for g (often data-related)\n",
    "            N -- number of values in Markov chain to return \n",
    "            w -- step-out width for slice sampling\n",
    "            m -- maximum for step-out scaling\n",
    "        Returns: (xs, likelies)\n",
    "            xs[N, dim] -- resulting Markov chain (includes initial guess as 0th)\n",
    "            likelies[N] -- vector of log-likelihoods of chain\n",
    "            \n",
    "        See: Neal, \"Slice Sampling,\" The Annals of Statistics 2003, vol. 31 (705-767). This is available online\n",
    "        --D. Craig converted from Julia mslicer, 2019 Jan 15.\n",
    "        \"\"\"\n",
    "    # based on Julia mslicer, version in mslicer-keeplikes.ipynb\n",
    "    xs = np.zeros((N, dim), dtype=np.float64)    # array (Markov chain) that will be returned\n",
    "    xs[0,:] = x0             #initial guess into the chain\n",
    "    x1 = np.zeros(dim)\n",
    "    L = np.zeros(dim)\n",
    "    R = np.zeros(dim)\n",
    "    likelies = np.zeros(N)     # record log likelihoods\n",
    "    likelies[0] = g(x0,xargs)  # get log-like of initial guess; avoid fencepost error\n",
    "    way = np.zeros(dim)  # which axis to go along in space\n",
    "    i = 1    # assumed start values for chain are recorded at xs[0,:]; this will be index of first generated point \n",
    "    while i < N:\n",
    "        for d in range(dim):     # go one step in each dimensional direction.\n",
    "            way = 0.0 * way #clear it\n",
    "            way[d] = 1.0 #set nonzero in direction we go for slicing on this step\n",
    "            y0 = g(x0,xargs)  #height of distribution at x0\n",
    "            y = y0 + np.log(rand()) # height for slice (using log scaled distribution)\n",
    "            #start stepping out\n",
    "            U = rand()   # between 0 and 1\n",
    "            L = x0 - (w * way * U)\n",
    "            R = L + w * way\n",
    "            V = rand()\n",
    "            J = np.floor(m*V)\n",
    "            K = (m - 1) - J\n",
    "            while J > 0 and y < g(L,xargs):\n",
    "                L = L - w * way\n",
    "                J = J - 1\n",
    "            while K > 0 and y < g(R,xargs):\n",
    "                R = R + w * way\n",
    "                K = K - 1\n",
    "            #now should be stepped out beyond distribution at slice level\n",
    "            # work back in if no value found:\n",
    "            Lbar, Rbar = L, R\n",
    "            while True: \n",
    "                U = rand()\n",
    "                x1 = Lbar + U * (Rbar - Lbar)  # vector subtraction should be correct dir\n",
    "                if y < g(x1,xargs):\n",
    "                    break # exit while loop\n",
    "                if x1[d] < x0[d]:\n",
    "                        Lbar = x1\n",
    "                else: \n",
    "                        Rbar = x1\n",
    "            xs[i,:] = x1 # found an acceptable point, record in chain (a row)\n",
    "            likelies[i] = y0 # record log-likelhood\n",
    "            x0 = x1 # set initial to new point for next round.\n",
    "            i += 1\n",
    "            if i >= N:\n",
    "                break # catch case where we reach N in the middle of set of dimensions\n",
    "    return xs, likelies "
   ]
  },
  {
   "cell_type": "code",
   "execution_count": 39,
   "metadata": {},
   "outputs": [],
   "source": [
    "# Make a cubic\n",
    "def cubemodel(x,A0,A1,A2,A3):\n",
    "    y = A0 + x*(A1 + x*(A2 + x*A3))\n",
    "    return y"
   ]
  },
  {
   "cell_type": "code",
   "execution_count": 35,
   "metadata": {},
   "outputs": [],
   "source": [
    "x = np.linspace(-10,10)\n",
    "yc = cubemodel(x,-40,-18,1.4,0.3)"
   ]
  },
  {
   "cell_type": "code",
   "execution_count": 43,
   "metadata": {},
   "outputs": [
    {
     "data": {
      "image/png": "[encoded data removed]",
      "text/plain": [
       "<Figure size 432x288 with 1 Axes>"
      ]
     },
     "metadata": {
      "needs_background": "light"
     },
     "output_type": "display_data"
    }
   ],
   "source": [
    "plt.plot(x, yc)\n",
    "plt.grid()"
   ]
  },
  {
   "cell_type": "code",
   "execution_count": 103,
   "metadata": {},
   "outputs": [],
   "source": [
    "xd = np.empty(20)\n",
    "for i in range(20):\n",
    "    xd[i] = i-10.0 + normal(scale=2)  #even with jitter"
   ]
  },
  {
   "cell_type": "code",
   "execution_count": 104,
   "metadata": {},
   "outputs": [],
   "source": [
    "N = len(xd)\n",
    "# we want x, y, s\n",
    "data = np.empty((N,3),float)\n",
    "for v in range(N):\n",
    "    s = uniform(20, 80)  #std dev for each point\n",
    "    y = cubemodel(xd[v],-40,-18,1.4,0.3) + normal(scale=s)\n",
    "    data[v,0] = xd[v]\n",
    "    data[v,1] = y\n",
    "    data[v,2] = s\n",
    "\n",
    "    "
   ]
  },
  {
   "cell_type": "code",
   "execution_count": 105,
   "metadata": {},
   "outputs": [
    {
     "data": {
      "text/plain": [
       "[<matplotlib.lines.Line2D at 0x7f02ab936208>]"
      ]
     },
     "execution_count": 105,
     "metadata": {},
     "output_type": "execute_result"
    },
    {
     "data": {
      "image/png": "[encoded data removed]",
      "text/plain": [
       "<Figure size 432x288 with 1 Axes>"
      ]
     },
     "metadata": {
      "needs_background": "light"
     },
     "output_type": "display_data"
    }
   ],
   "source": [
    "plt.errorbar(data[:,0], data[:,1], yerr = data[:,2], fmt='bo')\n",
    "plt.plot(x, yc, color=\"red\")"
   ]
  },
  {
   "cell_type": "code",
   "execution_count": null,
   "metadata": {},
   "outputs": [],
   "source": []
  },
  {
   "cell_type": "code",
   "execution_count": null,
   "metadata": {},
   "outputs": [],
   "source": []
  }
 ],
 "metadata": {
  "kernelspec": {
   "display_name": "Python 3",
   "language": "python",
   "name": "python3"
  },
  "language_info": {
   "codemirror_mode": {
    "name": "ipython",
    "version": 3
   },
   "file_extension": ".py",
   "mimetype": "text/x-python",
   "name": "python",
   "nbconvert_exporter": "python",
   "pygments_lexer": "ipython3",
   "version": "3.6.6"
  }
 },
 "nbformat": 4,
 "nbformat_minor": 2
}
